{
  "cells": [
    {
      "cell_type": "markdown",
      "metadata": {
        "id": "view-in-github",
        "colab_type": "text"
      },
      "source": [
        "<a href=\"https://colab.research.google.com/github/Grishma5278/Info-5731/blob/main/Tallapareddy_Grishma_Assignment_01.ipynb\" target=\"_parent\"><img src=\"https://colab.research.google.com/assets/colab-badge.svg\" alt=\"Open In Colab\"/></a>"
      ]
    },
    {
      "cell_type": "markdown",
      "metadata": {
        "id": "Ryk8D1Q4Wsrp"
      },
      "source": [
        "# **INFO5731 Assignment One**"
      ]
    },
    {
      "cell_type": "markdown",
      "source": [
        "This assignment includes range of programming tasks and data analysis exercises, aiming to enhance your Python skills and proficiency in string manipulation, numerical computations, and data science. Follow the instructions carefully and design well-structured Python programs to address each question.\n",
        "\n",
        "Late Submission will have a penalty of 10% reduction for each day after the deadline."
      ],
      "metadata": {
        "id": "qcP6re2g5A5r"
      }
    },
    {
      "cell_type": "markdown",
      "metadata": {
        "id": "JkzR8cFAyGik"
      },
      "source": [
        "# Question 1 (10 points).\n",
        "\n",
        "The formula that describes the volume V of a hemisphere with radius r is the following:\n",
        "\n",
        "$ V=\\frac{2}{3}\\ast\\ \\pi\\ast\\ r^3 $\n",
        "\n",
        "Write a program to calculate the value of V when r is in the range of even numbers from 1-20. Output the result in the following format:\n",
        "\n",
        "\tr\tV\n",
        "\t2\t…\n",
        "\t4\t…\n",
        "\t6\t…\n",
        "\t.\n",
        "\t.\n",
        "\t.\n",
        "\t20\t…\n"
      ]
    },
    {
      "cell_type": "code",
      "execution_count": null,
      "metadata": {
        "id": "jDyTKYs-yGit",
        "colab": {
          "base_uri": "https://localhost:8080/"
        },
        "outputId": "26587e03-6d7e-4cf9-d887-cc1a9d3f40cd"
      },
      "outputs": [
        {
          "output_type": "stream",
          "name": "stdout",
          "text": [
            "r\tV\n",
            "2\t16.755160819145562\n",
            "4\t134.0412865531645\n",
            "6\t452.38934211693015\n",
            "8\t1072.330292425316\n",
            "10\t2094.3951023931954\n",
            "12\t3619.114736935441\n",
            "14\t5747.0201609669275\n",
            "16\t8578.642339402528\n",
            "18\t12214.512237157114\n",
            "20\t16755.160819145563\n"
          ]
        }
      ],
      "source": [
        "import math\n",
        "\n",
        "def calculate_volume(radius):\n",
        "    return (2/3) * math.pi * radius**3\n",
        "print(\"r\\tV\")\n",
        "for r in range(2, 21, 2):\n",
        "    volume = calculate_volume(r)\n",
        "    print(f\"{r}\\t{volume}\")\n"
      ]
    },
    {
      "cell_type": "markdown",
      "metadata": {
        "id": "90_NR8c5XGWc"
      },
      "source": [
        "# Question 2 (20 points)\n",
        "\n",
        "(a) Write a Python program to generate a sequence of 12 random numbers falling within the range of 50 to 150.\n",
        "\n",
        "(b) Arrange the generated numbers in ascending order. Display the sorted list.\n",
        "\n",
        "(c) Extend the program to arrange the numbers in descending order as well. Present the sorted list accordingly.\n",
        "\n",
        "(d) Compute and output the average of the entire group of generated numbers.\n",
        "\n",
        "(e) Enhance the program to calculate and display the average of the first 6 numbers from both the ascending and descending sorted lists."
      ]
    },
    {
      "cell_type": "code",
      "execution_count": null,
      "metadata": {
        "id": "5QX6bJjGWXY9",
        "colab": {
          "base_uri": "https://localhost:8080/"
        },
        "outputId": "6bed3c3e-983b-4fd4-f526-147a2d438c01"
      },
      "outputs": [
        {
          "output_type": "stream",
          "name": "stdout",
          "text": [
            "Ascending Sorted List: [64, 70, 72, 84, 90, 92, 95, 100, 110, 133, 147, 148]\n",
            "Descending Sorted List: [148, 147, 133, 110, 100, 95, 92, 90, 84, 72, 70, 64]\n",
            "Average of All Numbers: 100.41666666666667\n",
            "Average of First 6 from Ascending List: 78.66666666666667\n",
            "Average of First 6 from Descending List: 122.16666666666667\n"
          ]
        }
      ],
      "source": [
        "import random\n",
        "random_numbers = [random.randint(50, 150) for _ in range(12)]\n",
        "ascending_sorted_numbers = sorted(random_numbers)\n",
        "print(\"Ascending Sorted List:\", ascending_sorted_numbers)\n",
        "descending_sorted_numbers = sorted(random_numbers, reverse=True)\n",
        "print(\"Descending Sorted List:\", descending_sorted_numbers)\n",
        "average_of_all_numbers = sum(random_numbers) / len(random_numbers)\n",
        "print(\"Average of All Numbers:\", average_of_all_numbers)\n",
        "average_of_first_six_ascending = sum(ascending_sorted_numbers[:6]) / 6\n",
        "average_of_first_six_descending = sum(descending_sorted_numbers[:6]) / 6\n",
        "\n",
        "print(\"Average of First 6 from Ascending List:\", average_of_first_six_ascending)\n",
        "print(\"Average of First 6 from Descending List:\", average_of_first_six_descending)\n",
        "\n",
        "\n"
      ]
    },
    {
      "cell_type": "markdown",
      "metadata": {
        "id": "1F_PZdH9Sh49"
      },
      "source": [
        "# Question 3 (20 points).\n",
        "\n",
        "Create a Python program that encompasses various string manipulation task:\n",
        "\n",
        "(a) Prompt the user to input two sentences.\n",
        "\n",
        "(b) Transform each sentence into a list, where each element corresponds to a word in the sentence. For example, if the sentences are \"Hello, how are you doing today?\" and \"This is an example sentence for the program!\"\n",
        "\n",
        "The program should output:\n",
        "['Hello', ',', 'how', 'are', 'you', 'doing', 'today', '?', 'This', 'is', 'an', 'example', 'sentence', 'for', 'the', 'program', '!']\n",
        "\n",
        "(c) Compare the two sentences. Print out a list of words that occur in both sentences.\n",
        "\n",
        "(d) Remove any punctuation from the sentence and print the sanitized sentences. It should remove at least the following characters, but it can remove more: period(“.”), comma (“,”), semicolon (“;”), and colon (“:”).\n",
        "\n",
        "(e) Count the number of vowels in each of the sentences. Print out each vowel and the occurrences  in the each of the two sentences separately, such as:\n",
        "\n",
        "Sentence1: a:2, e:2, i:0, etc.\n",
        "Sentence2: a:1, e:2, i:2, etc.\n",
        "\n",
        "Design a well-structured Python program to execute these tasks efficiently."
      ]
    },
    {
      "cell_type": "code",
      "execution_count": null,
      "metadata": {
        "id": "Y0oOSlsOS0cq",
        "colab": {
          "base_uri": "https://localhost:8080/"
        },
        "outputId": "dee8f147-bf34-45e0-ca81-9c0aafe46bec"
      },
      "outputs": [
        {
          "output_type": "stream",
          "name": "stdout",
          "text": [
            "Enter the first sentence: I am Grishma\n",
            "Enter the second sentence: I am from Vijayawada\n",
            "Common Words: ['I', 'am']\n",
            "Sanitized Sentence 1: I am Grishma\n",
            "Sanitized Sentence 2: I am from Vijayawada\n",
            "I am grishma: a:2, e:0, i:2, o:0, u:0\n",
            "I am from vijayawada: a:5, e:0, i:2, o:1, u:0\n"
          ]
        }
      ],
      "source": [
        "import string\n",
        "\n",
        "def get_input_sentences():\n",
        "    sentence1 = input(\"Enter the first sentence: \")\n",
        "    sentence2 = input(\"Enter the second sentence: \")\n",
        "    return sentence1, sentence2\n",
        "\n",
        "def transform_to_word_list(sentence):\n",
        "    words = sentence.split()\n",
        "    words = [word.strip(string.punctuation) for word in words]\n",
        "    return words\n",
        "\n",
        "def find_common_words(list1, list2):\n",
        "    return list(set(list1) & set(list2))\n",
        "\n",
        "def remove_punctuation(sentence):\n",
        "    return sentence.translate(str.maketrans(\"\", \"\", string.punctuation))\n",
        "\n",
        "def count_vowels(sentence):\n",
        "    vowels = \"aeiou\"\n",
        "    vowel_count = {vowel: sentence.lower().count(vowel) for vowel in vowels}\n",
        "    return vowel_count\n",
        "\n",
        "def print_vowel_counts(sentence, counts):\n",
        "    print(f\"{sentence.capitalize()}: {', '.join([f'{v}:{count}' for v, count in counts.items()])}\")\n",
        "sentence1, sentence2 = get_input_sentences()\n",
        "word_list1 = transform_to_word_list(sentence1)\n",
        "word_list2 = transform_to_word_list(sentence2)\n",
        "combined_word_list = word_list1 + word_list2\n",
        "common_words = find_common_words(word_list1, word_list2)\n",
        "print(\"Common Words:\", common_words)\n",
        "sanitized_sentence1 = remove_punctuation(sentence1)\n",
        "sanitized_sentence2 = remove_punctuation(sentence2)\n",
        "print(\"Sanitized Sentence 1:\", sanitized_sentence1)\n",
        "print(\"Sanitized Sentence 2:\", sanitized_sentence2)\n",
        "\n",
        "vowel_counts1 = count_vowels(sentence1)\n",
        "vowel_counts2 = count_vowels(sentence2)\n",
        "\n",
        "print_vowel_counts(sentence1, vowel_counts1)\n",
        "print_vowel_counts(sentence2, vowel_counts2)\n",
        "\n",
        "\n"
      ]
    },
    {
      "cell_type": "markdown",
      "source": [
        "# Question 4 (20 Points)"
      ],
      "metadata": {
        "id": "OP4-5qxAtInv"
      }
    },
    {
      "cell_type": "markdown",
      "source": [
        "Design and implement a simple command-line calculator program. The program should handle both integers and floating-point numbers.\n",
        "\n",
        "(a) Write program that takes a mathematical expression as input and evaluates it. The program should support addition, subtraction, multiplication, and division.\n",
        "\n",
        "(b) Extend the calculator to handle parentheses in mathematical expressions. Implement the necessary logic to evaluate expressions with nested parentheses.\n",
        "\n",
        "(c) Enhance your calculator to include additional mathematical operations such as exponentiation, square root, and modulus.\n",
        "\n",
        "(d) Implement error handling in the calculator program. Handle cases such as division by zero and invalid input expressions. Provide meaningful error messages.\n",
        "\n",
        "(e) Implement a command to exit the calculator."
      ],
      "metadata": {
        "id": "uzN4_hDptK9U"
      }
    },
    {
      "cell_type": "code",
      "source": [
        "import math\n",
        "\n",
        "def evaluate_expression(expression):\n",
        "    try:\n",
        "        result = eval(expression)\n",
        "        return result\n",
        "    except ZeroDivisionError:\n",
        "        return \"Error: Division by zero\"\n",
        "    except Exception as e:\n",
        "        return f\"Error: {str(e)}\"\n",
        "\n",
        "def main():\n",
        "    print(\"Simple Command-Line Calculator\")\n",
        "    print(\"Type 'exit' to exit the calculator.\")\n",
        "\n",
        "    while True:\n",
        "        user_input = input(\"Enter a mathematical expression: \")\n",
        "\n",
        "\n",
        "        if user_input.lower() == 'exit':\n",
        "            print(\"Exiting the calculator. Goodbye!\")\n",
        "            break\n",
        "\n",
        "\n",
        "        result = evaluate_expression(user_input)\n",
        "        print(\"Result:\", result)\n",
        "\n",
        "if __name__ == \"__main__\":\n",
        "    main()\n"
      ],
      "metadata": {
        "colab": {
          "base_uri": "https://localhost:8080/"
        },
        "id": "CgS8Ta1P_tNS",
        "outputId": "5b7e3224-044d-43a9-e8c9-3ce18b7e3bbd"
      },
      "execution_count": null,
      "outputs": [
        {
          "output_type": "stream",
          "name": "stdout",
          "text": [
            "Simple Command-Line Calculator\n",
            "Type 'exit' to exit the calculator.\n",
            "Enter a mathematical expression: 7*9\n",
            "Result: 63\n",
            "Enter a mathematical expression: 95%2\n",
            "Result: 1\n",
            "Enter a mathematical expression: 6+9\n",
            "Result: 15\n",
            "Enter a mathematical expression: 3**7\n",
            "Result: 2187\n",
            "Enter a mathematical expression: Exit\n",
            "Exiting the calculator. Goodbye!\n"
          ]
        }
      ]
    },
    {
      "cell_type": "markdown",
      "metadata": {
        "id": "z3tBE7E-Xn5X"
      },
      "source": [
        "# Question 5 (30 points).\n",
        "\n",
        "In the field of Data Science, data is often formatted as a comma-delimited (CSV) file, where each line in a file corresponds to a field's value. Refer to Chapter 9 (p. 106) for more information on comma-delimited files.\n",
        "\n",
        "To answer this question, you will need to download the file [Assignment1_denton_housing.csv](https://raw.githubusercontent.com/unt-iialab/info5731-spring2022/main/assignments/Assignment1_denton_housing.csv) included with this assignment. The file contains statistics about housing in the city of Denton from 2008 to 2014. Write a program to implement the following questions.\n",
        "\n",
        "(a) (5 pts) Calculate the difference in the number of Occupied Housing Units from year to year and print it. The difference must be calculated for the consecutive years such as 2008-2009, 2009-2010 etc. Finally, print the values in the ascending order.\n",
        "\n",
        "(b) (5 pts) For all the years, calculate the percentage of housing units which are vacant an occupied. Print the results in the following format:\n",
        "\n",
        "Year Vacant Housing Units Occupied Housing Units\n",
        "\n",
        "    2008  30%   70%                          \n",
        "\t2009 ----- -----\n",
        "\t2010 ----- -----\n",
        "    2011 ----- -----\n",
        "\t2012 ----- -----\n",
        "    2013 ----- -----\n",
        "\t2014 ----- -----\n",
        "  \n",
        "  \n",
        "\n",
        "(c) (10 pts) Calculate and print the valued and years in which the highest number of housing units were vacant and occupied. Print the results in the following format:  \n",
        "\n",
        "                              Year\tValue\n",
        "\tVacant Housing Units\t  -----   -----\n",
        "\tOccupied Housing Units\t-----   -----\n",
        "\n",
        "(d) (10 pts) Calculate the harmonic mean of the total housing units and print it out. You can find the information about harmonic mean here: https://ncalculators.com/statistics/harmonic-mean-calculator.htm"
      ]
    },
    {
      "cell_type": "code",
      "execution_count": null,
      "metadata": {
        "id": "lqGYuHBhcsRH",
        "colab": {
          "base_uri": "https://localhost:8080/"
        },
        "outputId": "b97f962b-2de4-409c-a920-cc83beaa8f76"
      },
      "outputs": [
        {
          "output_type": "stream",
          "name": "stdout",
          "text": [
            "Year Difference\n",
            "2008-2009 -1695\n",
            "2011-2012 204\n",
            "2010-2011 275\n",
            "2013-2014 1221\n",
            "2012-2013 2767\n",
            "2009-2010 5143\n"
          ]
        }
      ],
      "source": [
        "import csv\n",
        "\n",
        "def load_data(file_path):\n",
        "    data = []\n",
        "    with open(file_path, newline='') as csvfile:\n",
        "        reader = csv.DictReader(csvfile)\n",
        "        for row in reader:\n",
        "            data.append(row)\n",
        "    return data\n",
        "\n",
        "def calculate_yearly_differences(data):\n",
        "    yearly_differences = {}\n",
        "    years = sorted(set([row['year'] for row in data]))\n",
        "    for i in range(len(years) - 1):\n",
        "        current_year = years[i]\n",
        "        next_year = years[i + 1]\n",
        "        current_year_data = next(row for row in data if row['year'] == current_year)\n",
        "        next_year_data = next(row for row in data if row['year'] == next_year)\n",
        "        difference = int(next_year_data['value']) - int(current_year_data['value'])\n",
        "        yearly_differences[f\"{current_year}-{next_year}\"] = difference\n",
        "    return yearly_differences\n",
        "\n",
        "def main():\n",
        "    file_path = 'Assignment1_denton_housing.csv'\n",
        "    data = load_data(file_path)\n",
        "    yearly_differences = calculate_yearly_differences(data)\n",
        "    print(\"Year Difference\")\n",
        "    for year_range, difference in sorted(yearly_differences.items(), key=lambda x: x[1]):\n",
        "        print(f\"{year_range} {difference}\")\n",
        "\n",
        "if __name__ == \"__main__\":\n",
        "    main()\n"
      ]
    },
    {
      "cell_type": "code",
      "source": [
        "import csv\n",
        "\n",
        "def load_data(file_path):\n",
        "    data = []\n",
        "    with open(file_path, newline='') as csvfile:\n",
        "        reader = csv.DictReader(csvfile)\n",
        "        for row in reader:\n",
        "            data.append(row)\n",
        "    return data\n",
        "\n",
        "def calculate_percentages(data):\n",
        "    percentages = {}\n",
        "    years = sorted(set([row['year'] for row in data]))\n",
        "    for year in years:\n",
        "        year_data = [row for row in data if row['year'] == year]\n",
        "        total_units = sum(int(row['value']) for row in year_data)\n",
        "        vacant_units = int(next(row['value'] for row in year_data if row['title_field'] == 'Vacant Housing Units'))\n",
        "        occupied_units = int(next(row['value'] for row in year_data if row['title_field'] == 'Occupied Housing Units'))\n",
        "        vacant_percentage = (vacant_units / total_units) * 100\n",
        "        occupied_percentage = (occupied_units / total_units) * 100\n",
        "        percentages[year] = (f\"{vacant_percentage:.2f}%\", f\"{occupied_percentage:.2f}%\")\n",
        "    return percentages\n",
        "\n",
        "def main():\n",
        "    file_path = 'Assignment1_denton_housing.csv'\n",
        "    data = load_data(file_path)\n",
        "    percentages = calculate_percentages(data)\n",
        "    print(\"Year Vacant Housing Units Occupied Housing Units\")\n",
        "    for year, (vacant_percentage, occupied_percentage) in sorted(percentages.items()):\n",
        "        print(f\"{year}\\t{vacant_percentage}\\t{occupied_percentage}\")\n",
        "\n",
        "if __name__ == \"__main__\":\n",
        "    main()\n"
      ],
      "metadata": {
        "colab": {
          "base_uri": "https://localhost:8080/"
        },
        "id": "71wd5I1BDMP9",
        "outputId": "7617d700-8be7-4421-fce8-c4b48ddf4f54"
      },
      "execution_count": null,
      "outputs": [
        {
          "output_type": "stream",
          "name": "stdout",
          "text": [
            "Year Vacant Housing Units Occupied Housing Units\n",
            "2008\t3.74%\t30.63%\n",
            "2009\t3.10%\t31.05%\n",
            "2010\t2.77%\t31.29%\n",
            "2011\t3.21%\t30.99%\n",
            "2012\t2.26%\t31.61%\n",
            "2013\t3.00%\t31.12%\n",
            "2014\t1.94%\t31.84%\n"
          ]
        }
      ]
    },
    {
      "cell_type": "code",
      "source": [
        "import csv\n",
        "\n",
        "def load_data(file_path):\n",
        "    data = []\n",
        "    with open(file_path, newline='') as csvfile:\n",
        "        reader = csv.DictReader(csvfile)\n",
        "        for row in reader:\n",
        "            data.append(row)\n",
        "    return data\n",
        "\n",
        "def find_highest_value(data, field):\n",
        "    max_value = max(int(row['value']) for row in data if row['title_field'] == field)\n",
        "    year = next(row['year'] for row in data if int(row['value']) == max_value and row['title_field'] == field)\n",
        "    return year, max_value\n",
        "\n",
        "def main():\n",
        "    file_path = 'Assignment1_denton_housing.csv'\n",
        "    data = load_data(file_path)\n",
        "    vacant_year, vacant_value = find_highest_value(data, 'Vacant Housing Units')\n",
        "    occupied_year, occupied_value = find_highest_value(data, 'Occupied Housing Units')\n",
        "    print(\"Year\\tValue\")\n",
        "    print(f\"Vacant Housing Units\\t{vacant_year}\\t{vacant_value}\")\n",
        "    print(f\"Occupied Housing Units\\t{occupied_year}\\t{occupied_value}\")\n",
        "\n",
        "if __name__ == \"__main__\":\n",
        "    main()\n"
      ],
      "metadata": {
        "colab": {
          "base_uri": "https://localhost:8080/"
        },
        "id": "z9CY4gXLDXNS",
        "outputId": "7d1581cf-6dc6-43a4-8572-37ff84424b8d"
      },
      "execution_count": null,
      "outputs": [
        {
          "output_type": "stream",
          "name": "stdout",
          "text": [
            "Year\tValue\n",
            "Vacant Housing Units\t2008\t4483\n",
            "Occupied Housing Units\t2014\t46295\n"
          ]
        }
      ]
    },
    {
      "cell_type": "code",
      "source": [
        "import csv\n",
        "\n",
        "def load_data(file_path):\n",
        "    data = []\n",
        "    with open(file_path, newline='') as csvfile:\n",
        "        reader = csv.DictReader(csvfile)\n",
        "        for row in reader:\n",
        "            data.append(row)\n",
        "    return data\n",
        "\n",
        "def calculate_harmonic_mean(data):\n",
        "    total_units = [int(row['value']) for row in data if row['title_field'] == 'Total Housing Units']\n",
        "    n = len(total_units)\n",
        "    sum_of_reciprocals = sum(1/x for x in total_units)\n",
        "    harmonic_mean = n / sum_of_reciprocals\n",
        "    return harmonic_mean\n",
        "\n",
        "def main():\n",
        "    file_path = 'Assignment1_denton_housing.csv'\n",
        "    data = load_data(file_path)\n",
        "    harmonic_mean = calculate_harmonic_mean(data)\n",
        "    print(f\"The harmonic mean of total housing units is: {harmonic_mean:.2f}\")\n",
        "\n",
        "if __name__ == \"__main__\":\n",
        "    main()\n"
      ],
      "metadata": {
        "colab": {
          "base_uri": "https://localhost:8080/"
        },
        "id": "0r8uaNnrDf2-",
        "outputId": "6efa7832-3b23-431f-b9f3-4b7a5e647690"
      },
      "execution_count": null,
      "outputs": [
        {
          "output_type": "stream",
          "name": "stdout",
          "text": [
            "The harmonic mean of total housing units is: 44398.29\n"
          ]
        }
      ]
    },
    {
      "cell_type": "markdown",
      "source": [
        "# Mandatory Question\n",
        "\n",
        "Provide your thoughts on the assignment. What did you find challenging, and what aspects did you enjoy? Your opinion on the provided time to complete the assignment. Share any suggestions for improvement. Your feedback will be valuable for enhancing the learning experience."
      ],
      "metadata": {
        "id": "q8BFCvWp32cf"
      }
    },
    {
      "cell_type": "markdown",
      "source": [
        "This Assignment helped me to boost my skills in string manipulation, and numerical computations. I have learnt how importing of library works and the sufficient code to run it. Also this assignment helped me to upload a csv and make analysis from it. Bit challenging was importing the csv and making analysis from it. I like to do mathematics a lot, so the Question 4 which deals with the mathematical expression has been the enjoyable aspect for me. I think the time which you provided for this assignment is enough. Because you have given a lot of time which can be ued to prepare and write the codes for the given questions. There is no suggestion from my side, I am good with the procedure you are following now. Thank you\n"
      ],
      "metadata": {
        "id": "KshuwKLrjgII"
      }
    },
    {
      "cell_type": "markdown",
      "source": [],
      "metadata": {
        "id": "VUYvDFo-jtbB"
      }
    }
  ],
  "metadata": {
    "colab": {
      "provenance": [],
      "include_colab_link": true
    },
    "kernelspec": {
      "display_name": "Python 3 (ipykernel)",
      "language": "python",
      "name": "python3"
    },
    "language_info": {
      "codemirror_mode": {
        "name": "ipython",
        "version": 3
      },
      "file_extension": ".py",
      "mimetype": "text/x-python",
      "name": "python",
      "nbconvert_exporter": "python",
      "pygments_lexer": "ipython3",
      "version": "3.9.12"
    }
  },
  "nbformat": 4,
  "nbformat_minor": 0
}